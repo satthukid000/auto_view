{
 "cells": [
  {
   "cell_type": "code",
   "execution_count": 2,
   "metadata": {},
   "outputs": [],
   "source": [
    "from IPython.display import HTML\n",
    "from selenium import webdriver\n",
    "from webdriver_manager.chrome import ChromeDriverManager\n",
    "from selenium.common.exceptions import TimeoutException, WebDriverException\n",
    "from selenium.webdriver.chrome.service import Service as ChromeService\n",
    "from selenium.webdriver.common.by import By\n",
    "from selenium.webdriver.common.keys import Keys\n",
    "import time\n",
    "import random\n",
    "import os\n",
    "from docx import Document\n",
    "import re"
   ]
  },
  {
   "cell_type": "code",
   "execution_count": 4,
   "metadata": {},
   "outputs": [],
   "source": [
    "def get_chrome_driver_with_profile():\n",
    "    #profile path\n",
    "    profile_path = r'C:\\Users\\gsd463\\AppData\\Local\\Google\\Chrome\\User Data'\n",
    "    chrome_options = webdriver.ChromeOptions()\n",
    "    chrome_options.add_argument(f'user-data-dir={profile_path}')\n",
    "    #provide the profile name with which we want to open browser\n",
    "    chrome_options.add_argument('--profile-directory=Profile 1')\n",
    "    chrome_options.add_argument('--no-sandbox')\n",
    "    chrome_options.binary_location = r\"C:\\Program Files\\Google\\Chrome\\Application\\chrome.exe\"\n",
    "    driver = webdriver.Chrome(options=chrome_options, service=ChromeService(ChromeDriverManager().install()))\n",
    "    return driver"
   ]
  },
  {
   "cell_type": "markdown",
   "metadata": {},
   "source": [
    "# AUTO POST CHAPTER TRUYENYY"
   ]
  },
  {
   "cell_type": "code",
   "execution_count": 8,
   "metadata": {},
   "outputs": [
    {
     "name": "stdout",
     "output_type": "stream",
     "text": [
      "Chương 306 Thủ Thành [3]\n"
     ]
    },
    {
     "ename": "AttributeError",
     "evalue": "'list' object has no attribute 'input'",
     "output_type": "error",
     "traceback": [
      "\u001b[1;31m---------------------------------------------------------------------------\u001b[0m",
      "\u001b[1;31mAttributeError\u001b[0m                            Traceback (most recent call last)",
      "Cell \u001b[1;32mIn[8], line 36\u001b[0m\n\u001b[0;32m     34\u001b[0m website_url \u001b[38;5;241m=\u001b[39m \u001b[38;5;124m\"\u001b[39m\u001b[38;5;124mhttps://truyenyy.pro/manager/novel/64502/chapter/add/\u001b[39m\u001b[38;5;124m\"\u001b[39m\n\u001b[0;32m     35\u001b[0m d \u001b[38;5;241m=\u001b[39m get_chrome_driver_with_profile()\n\u001b[1;32m---> 36\u001b[0m \u001b[43mopen_and_post_chapter\u001b[49m\u001b[43m(\u001b[49m\u001b[43md\u001b[49m\u001b[43m,\u001b[49m\u001b[43m \u001b[49m\u001b[43mwebsite_url\u001b[49m\u001b[43m,\u001b[49m\u001b[43m \u001b[49m\u001b[38;5;241;43m306\u001b[39;49m\u001b[43m,\u001b[49m\u001b[38;5;241;43m10\u001b[39;49m\u001b[43m)\u001b[49m\n",
      "Cell \u001b[1;32mIn[8], line 12\u001b[0m, in \u001b[0;36mopen_and_post_chapter\u001b[1;34m(driver, url, starting_chapter, number_of_chapter)\u001b[0m\n\u001b[0;32m     10\u001b[0m chapter_header_text_input \u001b[38;5;241m=\u001b[39m driver\u001b[38;5;241m.\u001b[39mfind_elements(By\u001b[38;5;241m.\u001b[39mXPATH,\u001b[38;5;124m'\u001b[39m\u001b[38;5;124m/html/body/div[1]/div/div/form/div[2]/div/input\u001b[39m\u001b[38;5;124m'\u001b[39m)\n\u001b[0;32m     11\u001b[0m \u001b[38;5;28;01mif\u001b[39;00m(chapter_header_text_input):\n\u001b[1;32m---> 12\u001b[0m     \u001b[43mchapter_header_text_input\u001b[49m\u001b[38;5;241;43m.\u001b[39;49m\u001b[43minput\u001b[49m(first_value)\n\u001b[0;32m     13\u001b[0m driver\u001b[38;5;241m.\u001b[39mquit()\n",
      "\u001b[1;31mAttributeError\u001b[0m: 'list' object has no attribute 'input'"
     ]
    }
   ],
   "source": [
    "# Hàm auto post truyện chương bằng Selenium\n",
    "def open_and_post_chapter(driver, url, starting_chapter, number_of_chapter = 0):\n",
    "    driver.get(url)\n",
    "    file_path = f'G:\\\\My Drive\\\\The Author POV\\\\ch{starting_chapter}.docx'\n",
    "    first_sentence = get_first_sentence(file_path)\n",
    "    dic_chapter = split_string(first_sentence)\n",
    "    first_key, first_value = next(iter(dic_chapter.items()))\n",
    "    print(first_key + \" \" + first_value)\n",
    "    # Tìm text box number chương để nhập vào\n",
    "    chapter_header_text_input = driver.find_element(By.XPATH,'/html/body/div[1]/div/div/form/div[2]/div/input')\n",
    "    if(chapter_header_text_input):\n",
    "        chapter_header_text_input.send_keys(first_value)\n",
    "    driver.quit()\n",
    "\n",
    "    \n",
    "\n",
    "def get_first_sentence(file_path):\n",
    "    # Đọc file word\n",
    "        doc = Document(file_path)\n",
    "        # Lấy dòng đầu tiên ra\n",
    "        first_paragraph = doc.paragraphs[0].text\n",
    "        return first_paragraph\n",
    "\n",
    "def split_string(chapter_header):\n",
    "    # Cắt chuỗi dựa trên dấu hai chấm ':'\n",
    "    split_parts = chapter_header.split(':')\n",
    "    # Extract the two parts\n",
    "    first_part = split_parts[0].strip()\n",
    "    second_part = split_parts[1].strip()\n",
    "    dic = {first_part: second_part}\n",
    "    return dic\n",
    "\n",
    "# Set the website URL\n",
    "website_url = \"https://truyenyy.pro/manager/novel/64502/chapter/add/\"\n",
    "d = get_chrome_driver_with_profile()\n",
    "open_and_post_chapter(d, website_url, 306,10)\n",
    "\n",
    "\n"
   ]
  }
 ],
 "metadata": {
  "kernelspec": {
   "display_name": "Python 3",
   "language": "python",
   "name": "python3"
  },
  "language_info": {
   "codemirror_mode": {
    "name": "ipython",
    "version": 3
   },
   "file_extension": ".py",
   "mimetype": "text/x-python",
   "name": "python",
   "nbconvert_exporter": "python",
   "pygments_lexer": "ipython3",
   "version": "3.10.6"
  }
 },
 "nbformat": 4,
 "nbformat_minor": 2
}
