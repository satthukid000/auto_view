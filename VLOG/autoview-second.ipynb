{
 "cells": [
  {
   "cell_type": "code",
   "execution_count": 1,
   "metadata": {},
   "outputs": [],
   "source": [
    "from IPython.display import HTML\n",
    "from selenium import webdriver\n",
    "from webdriver_manager.chrome import ChromeDriverManager\n",
    "from selenium.common.exceptions import TimeoutException, WebDriverException\n",
    "import requests\n",
    "from selenium.webdriver.chrome.service import Service as ChromeService\n",
    "from selenium.webdriver.common.by import By\n",
    "from selenium.webdriver.common.keys import Keys\n",
    "from bs4 import BeautifulSoup\n",
    "import time\n",
    "import random\n",
    "from fake_useragent import UserAgent"
   ]
  },
  {
   "cell_type": "markdown",
   "metadata": {},
   "source": [
    "# AUTO VIEW VLOGNOVEL"
   ]
  },
  {
   "cell_type": "code",
   "execution_count": 3,
   "metadata": {},
   "outputs": [
    {
     "name": "stdout",
     "output_type": "stream",
     "text": [
      "Mozilla/5.0 (Windows NT 10.0; Win64; x64; rv:109.0) Gecko/20100101 Firefox/117.0\n"
     ]
    }
   ],
   "source": [
    "\n",
    "# Hàm auto scroll, refresh sau nhiều lần và click next chương bằng Selenium\n",
    "def open_and_refresh_websiteVL(driver,url, interval_seconds, number_of_chapter = 0):\n",
    "    try:\n",
    "        driver.get(url)\n",
    "    except ConnectionRefusedError:\n",
    "        new_driver = get_chrome_driver()\n",
    "        open_and_refresh_websiteVL(new_driver, url, interval_seconds, number_of_chapter)\n",
    "    except WebDriverException:\n",
    "        driver.quit()\n",
    "        return\n",
    "    count = 0\n",
    "    while(count<=1):\n",
    "        for _ in range(2):\n",
    "            # Dùng JavaScript để từ từ cuộn xuống\n",
    "            driver.execute_script(\"window.scrollBy(0, 220);\")\n",
    "            time.sleep(1)\n",
    "            driver.execute_script(\"window.scrollBy(0, 220);\")\n",
    "            driver.execute_script(\"window.scrollBy(0, 220);\")\n",
    "            driver.refresh()\n",
    "        driver.refresh()\n",
    "        time.sleep(interval_seconds)\n",
    "        count+=1\n",
    "    if(number_of_chapter > 60):\n",
    "        driver.quit()\n",
    "    buttonNext = driver.find_element(By.XPATH, '//a[@rel=\"next\" and @class=\"nextchap \"]')\n",
    "    if(buttonNext):\n",
    "        buttonNext.click()\n",
    "    nexturl = driver.current_url\n",
    "    open_and_refresh_websiteVL(driver,nexturl, interval_seconds, number_of_chapter+1)\n",
    "\n",
    "\n",
    "\n",
    "def get_chrome_driver():\n",
    "    chrome_options = webdriver.ChromeOptions()\n",
    "    ua = UserAgent()\n",
    "    user_agent = ua.random\n",
    "    print(user_agent)\n",
    "    # Adding argument to disable the AutomationControlled flag \n",
    "    chrome_options.add_argument(\"--disable-blink-features=AutomationControlled\") \n",
    "    # Exclude the collection of enable-automation switches \n",
    "    chrome_options.add_experimental_option(\"excludeSwitches\", [\"enable-automation\"]) \n",
    "    # Turn-off userAutomationExtension \n",
    "    chrome_options.add_experimental_option(\"useAutomationExtension\", False) \n",
    "    chrome_options.add_argument(f'user-agent={user_agent}')\n",
    "    # chrome_options.add_argument(f'--proxy-server={vn_random_proxy}')\n",
    "    driver = webdriver.Chrome(options=chrome_options, service=ChromeService(ChromeDriverManager().install()))\n",
    "    return driver\n",
    "\n",
    "# Set the website URL\n",
    "website_url = \"https://inovel6.com/than-kiem-luu-lac-phap-gioi/chuong-2-alex-6581996a27111c9a2b05b38c.html\"\n",
    "\n",
    "# Số giây cách\n",
    "refresh_interval = 3\n",
    "\n",
    "d = get_chrome_driver()\n",
    "# Gọi đến function auto refresh và auto click next chương\n",
    "open_and_refresh_websiteVL(d,website_url, refresh_interval)"
   ]
  }
 ],
 "metadata": {
  "kernelspec": {
   "display_name": "Python 3",
   "language": "python",
   "name": "python3"
  },
  "language_info": {
   "codemirror_mode": {
    "name": "ipython",
    "version": 3
   },
   "file_extension": ".py",
   "mimetype": "text/x-python",
   "name": "python",
   "nbconvert_exporter": "python",
   "pygments_lexer": "ipython3",
   "version": "3.10.6"
  }
 },
 "nbformat": 4,
 "nbformat_minor": 2
}
