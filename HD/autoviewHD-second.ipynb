{
 "cells": [
  {
   "cell_type": "code",
   "execution_count": 1,
   "metadata": {},
   "outputs": [],
   "source": [
    "from IPython.display import HTML\n",
    "from selenium import webdriver\n",
    "from webdriver_manager.chrome import ChromeDriverManager\n",
    "from selenium.common.exceptions import TimeoutException, WebDriverException\n",
    "import requests\n",
    "from selenium.webdriver.chrome.service import Service as ChromeService\n",
    "from selenium.webdriver.common.by import By\n",
    "from selenium.webdriver.common.keys import Keys\n",
    "from bs4 import BeautifulSoup\n",
    "import time\n",
    "import random"
   ]
  },
  {
   "cell_type": "code",
   "execution_count": null,
   "metadata": {},
   "outputs": [],
   "source": [
    "# Lấy về danh sách các proxy IP và port từ https://sslproxies.org\n",
    "def get_proxies():\n",
    "    url = 'https://sslproxies.org/'\n",
    "    response = requests.get(url)\n",
    "    soup = BeautifulSoup(response.text, 'html.parser')\n",
    "    proxies = []\n",
    "    count = 0\n",
    "    for row in soup.find_all('tr')[1:]:\n",
    "        # Chỉ lấy khoảng 20 proxies\n",
    "        if(count>=20):\n",
    "            break\n",
    "        columns = row.find_all('td')\n",
    "        # phải có ít nhất hai elements thì mới lấy\n",
    "        if columns[4].text == \"elite proxy\" and columns[5].text == \"yes\":\n",
    "            ip = columns[0].text\n",
    "            port = columns[1].text\n",
    "            proxies.append(f'{ip}:{port}')\n",
    "        count +=1\n",
    "    return proxies\n",
    "\n",
    "def get_vietnamese_proxies():\n",
    "    url = 'http://free-proxy.cz/en/proxylist/country/VN/all/ping/all'\n",
    "    response = requests.get(url)\n",
    "    soup = BeautifulSoup(response.text, 'html.parser')\n",
    "    proxies = []\n",
    "    count = 0\n",
    "    # Tìm table có id 'proxy_list'\n",
    "    proxy_table = soup.find('table', {'id': 'proxy_list'})\n",
    "    if proxy_table:\n",
    "        # Find all rows in the table\n",
    "        rows = proxy_table.find_all('tr')\n",
    "        for row in rows[1:]:\n",
    "            # Get all cells in the current row\n",
    "            cells = row.find_all(['th', 'td'])\n",
    "            # Loop through each cell (column) in the row\n",
    "            for index, cell in enumerate(cells):\n",
    "                if index in [0, 1]:\n",
    "                    print(cell.text)\n",
    "    return proxies\n",
    "\n",
    "# lấy ra danh sách các proxies\n",
    "proxy_list = get_proxies()\n",
    "\n",
    "# lấy ra danh sách các proxies của Việt Nam\n",
    "vn_proxy_list = get_vietnamese_proxies()\n",
    "\n",
    "# Chọn một proxy ngẫu nhiên\n",
    "random_proxy = random.choice(proxy_list)\n",
    "print('Proxy: ' + random_proxy)"
   ]
  },
  {
   "cell_type": "code",
   "execution_count": 2,
   "metadata": {},
   "outputs": [],
   "source": [
    "def get_chrome_driver():\n",
    "    chrome_options = webdriver.ChromeOptions()\n",
    "    # chrome_options.add_argument(f'--proxy-server={vn_random_proxy}')\n",
    "    driver = webdriver.Chrome(options=chrome_options, service=ChromeService(ChromeDriverManager().install()))\n",
    "    return driver"
   ]
  },
  {
   "cell_type": "markdown",
   "metadata": {},
   "source": [
    "# AUTO VIEW TRUYENHD"
   ]
  },
  {
   "cell_type": "code",
   "execution_count": 3,
   "metadata": {},
   "outputs": [
    {
     "ename": "NoSuchWindowException",
     "evalue": "Message: no such window: target window already closed\nfrom unknown error: web view not found\n  (Session info: chrome=120.0.6099.225)\nStacktrace:\n\tGetHandleVerifier [0x00DA6EE3+174339]\n\t(No symbol) [0x00CD0A51]\n\t(No symbol) [0x009E6FF6]\n\t(No symbol) [0x009CEFE7]\n\t(No symbol) [0x00A3B53B]\n\t(No symbol) [0x00A49E7B]\n\t(No symbol) [0x00A36DA6]\n\t(No symbol) [0x00A11034]\n\t(No symbol) [0x00A11F8D]\n\tGetHandleVerifier [0x00E44B1C+820540]\n\tsqlite3_dbdata_init [0x00F053EE+653550]\n\tsqlite3_dbdata_init [0x00F04E09+652041]\n\tsqlite3_dbdata_init [0x00EF97CC+605388]\n\tsqlite3_dbdata_init [0x00F05D9B+656027]\n\t(No symbol) [0x00CDFE6C]\n\t(No symbol) [0x00CD83B8]\n\t(No symbol) [0x00CD84DD]\n\t(No symbol) [0x00CC5818]\n\tBaseThreadInitThunk [0x77017BA9+25]\n\tRtlInitializeExceptionChain [0x7779BD2B+107]\n\tRtlClearBits [0x7779BCAF+191]\n",
     "output_type": "error",
     "traceback": [
      "\u001b[1;31m---------------------------------------------------------------------------\u001b[0m",
      "\u001b[1;31mNoSuchWindowException\u001b[0m                     Traceback (most recent call last)",
      "Cell \u001b[1;32mIn[3], line 45\u001b[0m\n\u001b[0;32m     43\u001b[0m d \u001b[38;5;241m=\u001b[39m get_chrome_driver()\n\u001b[0;32m     44\u001b[0m \u001b[38;5;66;03m# Gọi đến function auto refresh và auto click next chương\u001b[39;00m\n\u001b[1;32m---> 45\u001b[0m \u001b[43mopen_and_refresh_websiteVL\u001b[49m\u001b[43m(\u001b[49m\u001b[43md\u001b[49m\u001b[43m,\u001b[49m\u001b[43mwebsite_url\u001b[49m\u001b[43m,\u001b[49m\u001b[43m \u001b[49m\u001b[43mrefresh_interval\u001b[49m\u001b[43m)\u001b[49m\n",
      "Cell \u001b[1;32mIn[3], line 19\u001b[0m, in \u001b[0;36mopen_and_refresh_websiteVL\u001b[1;34m(driver, url, interval_seconds, number_of_chapter)\u001b[0m\n\u001b[0;32m     17\u001b[0m     driver\u001b[38;5;241m.\u001b[39mexecute_script(\u001b[38;5;124m\"\u001b[39m\u001b[38;5;124mwindow.scrollBy(0, 220);\u001b[39m\u001b[38;5;124m\"\u001b[39m)\n\u001b[0;32m     18\u001b[0m     time\u001b[38;5;241m.\u001b[39msleep(\u001b[38;5;241m1\u001b[39m)\n\u001b[1;32m---> 19\u001b[0m     \u001b[43mdriver\u001b[49m\u001b[38;5;241;43m.\u001b[39;49m\u001b[43mexecute_script\u001b[49m\u001b[43m(\u001b[49m\u001b[38;5;124;43m\"\u001b[39;49m\u001b[38;5;124;43mwindow.scrollBy(0, 220);\u001b[39;49m\u001b[38;5;124;43m\"\u001b[39;49m\u001b[43m)\u001b[49m\n\u001b[0;32m     20\u001b[0m driver\u001b[38;5;241m.\u001b[39mrefresh()\n\u001b[0;32m     21\u001b[0m time\u001b[38;5;241m.\u001b[39msleep(interval_seconds)\n",
      "File \u001b[1;32mc:\\Users\\Admin\\AppData\\Local\\Programs\\Python\\Python310\\lib\\site-packages\\selenium\\webdriver\\remote\\webdriver.py:408\u001b[0m, in \u001b[0;36mWebDriver.execute_script\u001b[1;34m(self, script, *args)\u001b[0m\n\u001b[0;32m    405\u001b[0m converted_args \u001b[38;5;241m=\u001b[39m \u001b[38;5;28mlist\u001b[39m(args)\n\u001b[0;32m    406\u001b[0m command \u001b[38;5;241m=\u001b[39m Command\u001b[38;5;241m.\u001b[39mW3C_EXECUTE_SCRIPT\n\u001b[1;32m--> 408\u001b[0m \u001b[38;5;28;01mreturn\u001b[39;00m \u001b[38;5;28;43mself\u001b[39;49m\u001b[38;5;241;43m.\u001b[39;49m\u001b[43mexecute\u001b[49m\u001b[43m(\u001b[49m\u001b[43mcommand\u001b[49m\u001b[43m,\u001b[49m\u001b[43m \u001b[49m\u001b[43m{\u001b[49m\u001b[38;5;124;43m\"\u001b[39;49m\u001b[38;5;124;43mscript\u001b[39;49m\u001b[38;5;124;43m\"\u001b[39;49m\u001b[43m:\u001b[49m\u001b[43m \u001b[49m\u001b[43mscript\u001b[49m\u001b[43m,\u001b[49m\u001b[43m \u001b[49m\u001b[38;5;124;43m\"\u001b[39;49m\u001b[38;5;124;43margs\u001b[39;49m\u001b[38;5;124;43m\"\u001b[39;49m\u001b[43m:\u001b[49m\u001b[43m \u001b[49m\u001b[43mconverted_args\u001b[49m\u001b[43m}\u001b[49m\u001b[43m)\u001b[49m[\u001b[38;5;124m\"\u001b[39m\u001b[38;5;124mvalue\u001b[39m\u001b[38;5;124m\"\u001b[39m]\n",
      "File \u001b[1;32mc:\\Users\\Admin\\AppData\\Local\\Programs\\Python\\Python310\\lib\\site-packages\\selenium\\webdriver\\remote\\webdriver.py:348\u001b[0m, in \u001b[0;36mWebDriver.execute\u001b[1;34m(self, driver_command, params)\u001b[0m\n\u001b[0;32m    346\u001b[0m response \u001b[38;5;241m=\u001b[39m \u001b[38;5;28mself\u001b[39m\u001b[38;5;241m.\u001b[39mcommand_executor\u001b[38;5;241m.\u001b[39mexecute(driver_command, params)\n\u001b[0;32m    347\u001b[0m \u001b[38;5;28;01mif\u001b[39;00m response:\n\u001b[1;32m--> 348\u001b[0m     \u001b[38;5;28;43mself\u001b[39;49m\u001b[38;5;241;43m.\u001b[39;49m\u001b[43merror_handler\u001b[49m\u001b[38;5;241;43m.\u001b[39;49m\u001b[43mcheck_response\u001b[49m\u001b[43m(\u001b[49m\u001b[43mresponse\u001b[49m\u001b[43m)\u001b[49m\n\u001b[0;32m    349\u001b[0m     response[\u001b[38;5;124m\"\u001b[39m\u001b[38;5;124mvalue\u001b[39m\u001b[38;5;124m\"\u001b[39m] \u001b[38;5;241m=\u001b[39m \u001b[38;5;28mself\u001b[39m\u001b[38;5;241m.\u001b[39m_unwrap_value(response\u001b[38;5;241m.\u001b[39mget(\u001b[38;5;124m\"\u001b[39m\u001b[38;5;124mvalue\u001b[39m\u001b[38;5;124m\"\u001b[39m, \u001b[38;5;28;01mNone\u001b[39;00m))\n\u001b[0;32m    350\u001b[0m     \u001b[38;5;28;01mreturn\u001b[39;00m response\n",
      "File \u001b[1;32mc:\\Users\\Admin\\AppData\\Local\\Programs\\Python\\Python310\\lib\\site-packages\\selenium\\webdriver\\remote\\errorhandler.py:229\u001b[0m, in \u001b[0;36mErrorHandler.check_response\u001b[1;34m(self, response)\u001b[0m\n\u001b[0;32m    227\u001b[0m         alert_text \u001b[38;5;241m=\u001b[39m value[\u001b[38;5;124m\"\u001b[39m\u001b[38;5;124malert\u001b[39m\u001b[38;5;124m\"\u001b[39m]\u001b[38;5;241m.\u001b[39mget(\u001b[38;5;124m\"\u001b[39m\u001b[38;5;124mtext\u001b[39m\u001b[38;5;124m\"\u001b[39m)\n\u001b[0;32m    228\u001b[0m     \u001b[38;5;28;01mraise\u001b[39;00m exception_class(message, screen, stacktrace, alert_text)  \u001b[38;5;66;03m# type: ignore[call-arg]  # mypy is not smart enough here\u001b[39;00m\n\u001b[1;32m--> 229\u001b[0m \u001b[38;5;28;01mraise\u001b[39;00m exception_class(message, screen, stacktrace)\n",
      "\u001b[1;31mNoSuchWindowException\u001b[0m: Message: no such window: target window already closed\nfrom unknown error: web view not found\n  (Session info: chrome=120.0.6099.225)\nStacktrace:\n\tGetHandleVerifier [0x00DA6EE3+174339]\n\t(No symbol) [0x00CD0A51]\n\t(No symbol) [0x009E6FF6]\n\t(No symbol) [0x009CEFE7]\n\t(No symbol) [0x00A3B53B]\n\t(No symbol) [0x00A49E7B]\n\t(No symbol) [0x00A36DA6]\n\t(No symbol) [0x00A11034]\n\t(No symbol) [0x00A11F8D]\n\tGetHandleVerifier [0x00E44B1C+820540]\n\tsqlite3_dbdata_init [0x00F053EE+653550]\n\tsqlite3_dbdata_init [0x00F04E09+652041]\n\tsqlite3_dbdata_init [0x00EF97CC+605388]\n\tsqlite3_dbdata_init [0x00F05D9B+656027]\n\t(No symbol) [0x00CDFE6C]\n\t(No symbol) [0x00CD83B8]\n\t(No symbol) [0x00CD84DD]\n\t(No symbol) [0x00CC5818]\n\tBaseThreadInitThunk [0x77017BA9+25]\n\tRtlInitializeExceptionChain [0x7779BD2B+107]\n\tRtlClearBits [0x7779BCAF+191]\n"
     ]
    }
   ],
   "source": [
    "# Hàm auto scroll, refresh sau nhiều lần và click next chương bằng Selenium\n",
    "def open_and_refresh_websiteVL(driver, url, interval_seconds, number_of_chapter = 0):\n",
    "    try:\n",
    "        driver.get(url)\n",
    "    except ConnectionRefusedError:\n",
    "        print(f'WebDriverException caught at {number_of_chapter}, url: {url}')\n",
    "        driver.quit()\n",
    "        new_driver = get_chrome_driver()\n",
    "        open_and_refresh_websiteVL(new_driver, url, interval_seconds, number_of_chapter)\n",
    "    except WebDriverException:\n",
    "        driver.quit()\n",
    "        return\n",
    "    count = 0\n",
    "    while(count<=2):\n",
    "        time.sleep(interval_seconds)\n",
    "        driver.refresh()\n",
    "        driver.refresh()\n",
    "        time.sleep(interval_seconds)\n",
    "        driver.refresh()\n",
    "        driver.refresh()\n",
    "        time.sleep(interval_seconds)\n",
    "        time.sleep(interval_seconds)\n",
    "        driver.refresh()\n",
    "        driver.refresh()\n",
    "        time.sleep(interval_seconds)\n",
    "        driver.refresh()\n",
    "        driver.refresh()\n",
    "        time.sleep(interval_seconds)\n",
    "        count+=1\n",
    "    if(number_of_chapter > 80):\n",
    "        driver.quit()\n",
    "    if(driver.find_elements(By.XPATH, '//*[@id=\"html\"]/body/div[5]/div/div/div[8]/div[3]/a')!=[]): \n",
    "        buttonNext = driver.find_element(By.XPATH, '//*[@id=\"html\"]/body/div[5]/div/div/div[8]/div[3]/a').click()\n",
    "    nexturl = driver.current_url\n",
    "    open_and_refresh_websiteVL(driver,nexturl, interval_seconds, number_of_chapter+1)\n",
    "    \n",
    "    # Close the WebDriver when the notebook cell is done\n",
    "    # This is optional and depends on whether you want to keep the browser open\n",
    "    # If you want to keep the browser open, omit the next line\n",
    "\n",
    "# Set the website URL\n",
    "website_url = \"https://truyenhdx.com/truyen/the-authors-pov-goc-nhin-cua-tac-gia/chap/8393100-chuong-2/\"\n",
    "website_url_HD50 = \"https://truyenhdx.com/truyen/the-authors-pov-goc-nhin-cua-tac-gia/chap/8393100-chuong-50/\"\n",
    "\n",
    "url_TKLLPG_1 = 'https://truyenhdx.com/truyen/than-kiem-luu-lac-phap-gioi/chap/10323547-chuong-1/'\n",
    "\n",
    "\n",
    "# Số giây cách\n",
    "refresh_interval = 2\n",
    "d = get_chrome_driver()\n",
    "# Gọi đến function auto refresh và auto click next chương\n",
    "open_and_refresh_websiteVL(d,website_url, refresh_interval)"
   ]
  }
 ],
 "metadata": {
  "kernelspec": {
   "display_name": "Python 3",
   "language": "python",
   "name": "python3"
  },
  "language_info": {
   "codemirror_mode": {
    "name": "ipython",
    "version": 3
   },
   "file_extension": ".py",
   "mimetype": "text/x-python",
   "name": "python",
   "nbconvert_exporter": "python",
   "pygments_lexer": "ipython3",
   "version": "3.10.6"
  }
 },
 "nbformat": 4,
 "nbformat_minor": 2
}
